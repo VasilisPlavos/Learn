{
 "cells": [
  {
   "cell_type": "code",
   "execution_count": 10,
   "metadata": {},
   "outputs": [
    {
     "name": "stdout",
     "output_type": "stream",
     "text": [
      "[2, 4, 6]\n"
     ]
    }
   ],
   "source": [
    "my_list = [1,2,3]\n",
    "\n",
    "double = []\n",
    "for item in my_list:\n",
    "    double.append(item * 2)\n",
    "    \n",
    "print(double)"
   ]
  },
  {
   "cell_type": "code",
   "execution_count": 11,
   "metadata": {},
   "outputs": [
    {
     "name": "stdout",
     "output_type": "stream",
     "text": [
      "['Dirk']\n"
     ]
    }
   ],
   "source": [
    "users = [{'name': 'Manuel', 'age': 31}, {'name': 'Max', 'age': 30},{'name': 'Dirk', 'age': 38}]\n",
    "\n",
    "user_name = [user['name'] for user in users if user['age'] > 30 and user['name']=='Dirk']\n",
    "\n",
    "print(user_name)"
   ]
  },
  {
   "cell_type": "code",
   "execution_count": 5,
   "metadata": {},
   "outputs": [
    {
     "name": "stdout",
     "output_type": "stream",
     "text": [
      "['Manuel', 'Julie']\n"
     ]
    }
   ],
   "source": [
    "user_groups = [\n",
    "    [\n",
    "        {'name': 'Manuel', 'age': 31},\n",
    "        {'name': 'Max', 'age': 30}\n",
    "        \n",
    "    ],\n",
    "    [\n",
    "        {'name': 'Sarah', 'age': 29},\n",
    "        {'name': 'Julie', 'age': 32}\n",
    "        \n",
    "    ]\n",
    "]\n",
    "\n",
    "user_name = [person['name'] for group in user_groups for person in group if person['age'] > 30]\n",
    "print(user_name)\n",
    "\n",
    "\n"
   ]
  },
  {
   "cell_type": "code",
   "execution_count": null,
   "metadata": {},
   "outputs": [],
   "source": [
    "user_name = [for group in user_groups]\n",
    "print(user_name)"
   ]
  },
  {
   "cell_type": "code",
   "execution_count": null,
   "metadata": {},
   "outputs": [],
   "source": [
    "user_data = ('Manuel', 31, 'Male')\n",
    "name, age, gender = user_data\n",
    "print(age)"
   ]
  }
 ],
 "metadata": {
  "kernelspec": {
   "display_name": "Python 3",
   "language": "python",
   "name": "python3"
  },
  "language_info": {
   "codemirror_mode": {
    "name": "ipython",
    "version": 3
   },
   "file_extension": ".py",
   "mimetype": "text/x-python",
   "name": "python",
   "nbconvert_exporter": "python",
   "pygments_lexer": "ipython3",
   "version": "3.7.3"
  }
 },
 "nbformat": 4,
 "nbformat_minor": 2
}
