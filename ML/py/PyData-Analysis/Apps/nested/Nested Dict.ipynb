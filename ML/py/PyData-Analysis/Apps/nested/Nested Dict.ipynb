{
 "cells": [
  {
   "cell_type": "code",
   "execution_count": 1,
   "metadata": {},
   "outputs": [],
   "source": [
    "import json"
   ]
  },
  {
   "cell_type": "code",
   "execution_count": 4,
   "metadata": {},
   "outputs": [],
   "source": [
    "with open('./source/source-data.json') as access_json:\n",
    "    read_content = json.load(access_json)"
   ]
  },
  {
   "cell_type": "code",
   "execution_count": 8,
   "metadata": {},
   "outputs": [
    {
     "data": {
      "text/plain": [
       "{'results': [{'_class': 'question',\n",
       "   'course': {'_class': 'course',\n",
       "    'title': 'Angular 7 (formerly Angular 2) - The Complete Guide',\n",
       "    'url': '/the-complete-guide-to-angular-2/'},\n",
       "   'replies': [{'_class': 'answer',\n",
       "     'user': {'_class': 'user',\n",
       "      'display_name': 'Maximilian Schwarzmueller'}}]},\n",
       "  {'_class': 'question',\n",
       "   'course': {'_class': 'course',\n",
       "    'title': 'Angular 7 (formerly Angular 2) - The Complete Guide',\n",
       "    'url': '/the-complete-guide-to-angular-2/'},\n",
       "   'replies': [{'_class': 'answer',\n",
       "     'user': {'_class': 'user', 'display_name': 'Maximilian Schwarzmueller'}},\n",
       "    {'_class': 'answer',\n",
       "     'user': {'_class': 'user', 'display_name': 'Daniel Weat'}}]},\n",
       "  {'_class': 'question',\n",
       "   'course': {'_class': 'course',\n",
       "    'title': 'Angular 7 (formerly Angular 2) - The Complete Guide',\n",
       "    'url': '/the-complete-guide-to-angular-2/'},\n",
       "   'replies': [{'_class': 'answer',\n",
       "     'user': {'_class': 'user', 'display_name': 'Maximilian Schwarzmueller'}},\n",
       "    {'_class': 'answer',\n",
       "     'user': {'_class': 'user', 'display_name': 'Mike Jauranol'}},\n",
       "    {'_class': 'answer',\n",
       "     'user': {'_class': 'user', 'display_name': 'Mike Jauranol'}},\n",
       "    {'_class': 'answer',\n",
       "     'user': {'_class': 'user',\n",
       "      'display_name': 'Maximilian Schwarzmueller'}}]},\n",
       "  {'_class': 'question',\n",
       "   'course': {'_class': 'course',\n",
       "    'title': 'Angular 7 (formerly Angular 2) - The Complete Guide',\n",
       "    'url': '/the-complete-guide-to-angular-2/'},\n",
       "   'replies': [{'_class': 'answer',\n",
       "     'user': {'_class': 'user',\n",
       "      'display_name': 'Maximilian Schwarzmueller'}}]},\n",
       "  {'_class': 'question',\n",
       "   'course': {'_class': 'course',\n",
       "    'title': 'Angular 7 (formerly Angular 2) - The Complete Guide',\n",
       "    'url': '/the-complete-guide-to-angular-2/'},\n",
       "   'replies': [{'_class': 'answer',\n",
       "     'user': {'_class': 'user', 'display_name': 'Maximilian Schwarzmueller'}},\n",
       "    {'_class': 'answer',\n",
       "     'user': {'_class': 'user', 'display_name': 'Bernd Raucher'}},\n",
       "    {'_class': 'answer',\n",
       "     'user': {'_class': 'user',\n",
       "      'display_name': 'Maximilian Schwarzmueller'}}]}]}"
      ]
     },
     "execution_count": 8,
     "metadata": {},
     "output_type": "execute_result"
    }
   ],
   "source": [
    "read_content"
   ]
  },
  {
   "cell_type": "code",
   "execution_count": 12,
   "metadata": {},
   "outputs": [],
   "source": [
    "question_access = read_content['results']"
   ]
  },
  {
   "cell_type": "code",
   "execution_count": 19,
   "metadata": {},
   "outputs": [
    {
     "name": "stdout",
     "output_type": "stream",
     "text": [
      "{'_class': 'question', 'course': {'_class': 'course', 'title': 'Angular 7 (formerly Angular 2) - The Complete Guide', 'url': '/the-complete-guide-to-angular-2/'}, 'replies': [{'_class': 'answer', 'user': {'_class': 'user', 'display_name': 'Maximilian Schwarzmueller'}}]}\n",
      "{'_class': 'question', 'course': {'_class': 'course', 'title': 'Angular 7 (formerly Angular 2) - The Complete Guide', 'url': '/the-complete-guide-to-angular-2/'}, 'replies': [{'_class': 'answer', 'user': {'_class': 'user', 'display_name': 'Maximilian Schwarzmueller'}}, {'_class': 'answer', 'user': {'_class': 'user', 'display_name': 'Daniel Weat'}}]}\n",
      "{'_class': 'question', 'course': {'_class': 'course', 'title': 'Angular 7 (formerly Angular 2) - The Complete Guide', 'url': '/the-complete-guide-to-angular-2/'}, 'replies': [{'_class': 'answer', 'user': {'_class': 'user', 'display_name': 'Maximilian Schwarzmueller'}}, {'_class': 'answer', 'user': {'_class': 'user', 'display_name': 'Mike Jauranol'}}, {'_class': 'answer', 'user': {'_class': 'user', 'display_name': 'Mike Jauranol'}}, {'_class': 'answer', 'user': {'_class': 'user', 'display_name': 'Maximilian Schwarzmueller'}}]}\n",
      "{'_class': 'question', 'course': {'_class': 'course', 'title': 'Angular 7 (formerly Angular 2) - The Complete Guide', 'url': '/the-complete-guide-to-angular-2/'}, 'replies': [{'_class': 'answer', 'user': {'_class': 'user', 'display_name': 'Maximilian Schwarzmueller'}}]}\n",
      "{'_class': 'question', 'course': {'_class': 'course', 'title': 'Angular 7 (formerly Angular 2) - The Complete Guide', 'url': '/the-complete-guide-to-angular-2/'}, 'replies': [{'_class': 'answer', 'user': {'_class': 'user', 'display_name': 'Maximilian Schwarzmueller'}}, {'_class': 'answer', 'user': {'_class': 'user', 'display_name': 'Bernd Raucher'}}, {'_class': 'answer', 'user': {'_class': 'user', 'display_name': 'Maximilian Schwarzmueller'}}]}\n"
     ]
    }
   ],
   "source": [
    "for question_data in question_access:\n",
    "    print(question_data)\n",
    "    "
   ]
  },
  {
   "cell_type": "code",
   "execution_count": 20,
   "metadata": {},
   "outputs": [
    {
     "data": {
      "text/plain": [
       "[{'_class': 'answer',\n",
       "  'user': {'_class': 'user', 'display_name': 'Maximilian Schwarzmueller'}},\n",
       " {'_class': 'answer',\n",
       "  'user': {'_class': 'user', 'display_name': 'Bernd Raucher'}},\n",
       " {'_class': 'answer',\n",
       "  'user': {'_class': 'user', 'display_name': 'Maximilian Schwarzmueller'}}]"
      ]
     },
     "execution_count": 20,
     "metadata": {},
     "output_type": "execute_result"
    }
   ],
   "source": [
    "replies_access = question_data['replies']\n",
    "replies_access"
   ]
  },
  {
   "cell_type": "code",
   "execution_count": 21,
   "metadata": {},
   "outputs": [
    {
     "name": "stdout",
     "output_type": "stream",
     "text": [
      "{'_class': 'answer', 'user': {'_class': 'user', 'display_name': 'Maximilian Schwarzmueller'}}\n",
      "{'_class': 'answer', 'user': {'_class': 'user', 'display_name': 'Bernd Raucher'}}\n",
      "{'_class': 'answer', 'user': {'_class': 'user', 'display_name': 'Maximilian Schwarzmueller'}}\n"
     ]
    }
   ],
   "source": [
    "for replies_data in replies_access:\n",
    "    print(replies_data)"
   ]
  },
  {
   "cell_type": "code",
   "execution_count": 22,
   "metadata": {},
   "outputs": [],
   "source": [
    "user_name = replies_data['user']['display_name']"
   ]
  },
  {
   "cell_type": "code",
   "execution_count": 23,
   "metadata": {},
   "outputs": [
    {
     "data": {
      "text/plain": [
       "'Maximilian Schwarzmueller'"
      ]
     },
     "execution_count": 23,
     "metadata": {},
     "output_type": "execute_result"
    }
   ],
   "source": [
    "user_name"
   ]
  },
  {
   "cell_type": "code",
   "execution_count": 40,
   "metadata": {},
   "outputs": [
    {
     "data": {
      "text/plain": [
       "'Maximilian Schwarzmueller'"
      ]
     },
     "execution_count": 40,
     "metadata": {},
     "output_type": "execute_result"
    }
   ],
   "source": [
    "read_content['results'][0]['replies'][0]['user']['display_name']"
   ]
  },
  {
   "cell_type": "code",
   "execution_count": 49,
   "metadata": {},
   "outputs": [],
   "source": [
    "def get_user_names():\n",
    "    question_access = read_content['results']\n",
    "    for question_data in question_access:\n",
    "        replies_access = question_data['replies']\n",
    "        for replies_data in replies_access:\n",
    "            user_name = replies_data['user']['display_name']\n",
    "            save_data.append(user_name)"
   ]
  },
  {
   "cell_type": "code",
   "execution_count": 51,
   "metadata": {},
   "outputs": [
    {
     "data": {
      "text/plain": [
       "['Maximilian Schwarzmueller',\n",
       " 'Maximilian Schwarzmueller',\n",
       " 'Daniel Weat',\n",
       " 'Maximilian Schwarzmueller',\n",
       " 'Mike Jauranol',\n",
       " 'Mike Jauranol',\n",
       " 'Maximilian Schwarzmueller',\n",
       " 'Maximilian Schwarzmueller',\n",
       " 'Maximilian Schwarzmueller',\n",
       " 'Bernd Raucher',\n",
       " 'Maximilian Schwarzmueller']"
      ]
     },
     "execution_count": 51,
     "metadata": {},
     "output_type": "execute_result"
    }
   ],
   "source": [
    "save_data"
   ]
  },
  {
   "cell_type": "code",
   "execution_count": 54,
   "metadata": {},
   "outputs": [],
   "source": [
    "with open('user_names_new.json', 'w') as file:\n",
    "    json.dump(save_data, file)"
   ]
  },
  {
   "cell_type": "code",
   "execution_count": null,
   "metadata": {},
   "outputs": [],
   "source": []
  }
 ],
 "metadata": {
  "kernelspec": {
   "display_name": "Python 3",
   "language": "python",
   "name": "python3"
  },
  "language_info": {
   "codemirror_mode": {
    "name": "ipython",
    "version": 3
   },
   "file_extension": ".py",
   "mimetype": "text/x-python",
   "name": "python",
   "nbconvert_exporter": "python",
   "pygments_lexer": "ipython3",
   "version": "3.7.3"
  }
 },
 "nbformat": 4,
 "nbformat_minor": 2
}
